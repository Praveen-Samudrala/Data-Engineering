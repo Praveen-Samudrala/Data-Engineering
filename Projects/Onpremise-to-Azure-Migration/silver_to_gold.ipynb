{
 "cells": [
  {
   "cell_type": "code",
   "execution_count": 0,
   "metadata": {
    "application/vnd.databricks.v1+cell": {
     "cellMetadata": {
      "byteLimit": 2048000,
      "rowLimit": 10000
     },
     "inputWidgets": {},
     "nuid": "4969e17b-74de-4ecb-86e9-468b3b7c5e5a",
     "showTitle": false,
     "title": ""
    }
   },
   "outputs": [],
   "source": [
    "silver_path = 'abfss://silver@adlspraveen02.dfs.core.windows.net/'\n",
    "gold_path = 'abfss://gold@adlspraveen02.dfs.core.windows.net/'"
   ]
  },
  {
   "cell_type": "code",
   "execution_count": 0,
   "metadata": {
    "application/vnd.databricks.v1+cell": {
     "cellMetadata": {
      "byteLimit": 2048000,
      "rowLimit": 10000
     },
     "inputWidgets": {},
     "nuid": "35cc7c42-27aa-4eae-bd09-b3cc06914041",
     "showTitle": false,
     "title": ""
    }
   },
   "outputs": [
    {
     "output_type": "execute_result",
     "data": {
      "text/plain": [
       "['departments', 'employees', 'fruit_imports', 'regions']"
      ]
     },
     "execution_count": 7,
     "metadata": {},
     "output_type": "execute_result"
    }
   ],
   "source": [
    "# Reading the files and saving to Gold container as no further transformation is required.\n",
    "# usually at this stage, the final fact and dimension tables are created, which in our case they are already in this format.\n",
    "\n",
    "table_names = []\n",
    "for i in dbutils.fs.ls(silver_path):\n",
    "    table_names.append(i.name.split('/')[0])\n",
    "table_names"
   ]
  },
  {
   "cell_type": "code",
   "execution_count": 0,
   "metadata": {
    "application/vnd.databricks.v1+cell": {
     "cellMetadata": {
      "byteLimit": 2048000,
      "rowLimit": 10000
     },
     "inputWidgets": {},
     "nuid": "56b8e06e-e97f-4756-a698-839b799bf954",
     "showTitle": false,
     "title": ""
    }
   },
   "outputs": [],
   "source": [
    "for folder in table_names:\n",
    "    df = spark.read.format('delta').load(silver_path+folder+'/')\n",
    "    df.write.format('delta').mode('overwrite').save(gold_path+folder+'/')"
   ]
  }
 ],
 "metadata": {
  "application/vnd.databricks.v1+notebook": {
   "dashboards": [],
   "language": "python",
   "notebookMetadata": {
    "pythonIndentUnit": 4
   },
   "notebookName": "silver_to_gold",
   "widgets": {}
  }
 },
 "nbformat": 4,
 "nbformat_minor": 0
}
